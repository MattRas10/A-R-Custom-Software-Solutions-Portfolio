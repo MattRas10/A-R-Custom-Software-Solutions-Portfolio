{
  "nbformat": 4,
  "nbformat_minor": 0,
  "metadata": {
    "colab": {
      "provenance": [],
      "toc_visible": true,
      "authorship_tag": "ABX9TyNurPmzw2RboOE21zltxS8b",
      "include_colab_link": true
    },
    "kernelspec": {
      "name": "python3",
      "display_name": "Python 3"
    },
    "language_info": {
      "name": "python"
    }
  },
  "cells": [
    {
      "cell_type": "markdown",
      "metadata": {
        "id": "view-in-github",
        "colab_type": "text"
      },
      "source": [
        "<a href=\"https://colab.research.google.com/github/MattRas10/A-R-Custom-Software-Solutions-Portfolio/blob/main/MarcusAllen.ipynb\" target=\"_parent\"><img src=\"https://colab.research.google.com/assets/colab-badge.svg\" alt=\"Open In Colab\"/></a>"
      ]
    },
    {
      "cell_type": "code",
      "source": [
        "!python /content/Project3/part2.py"
      ],
      "metadata": {
        "colab": {
          "base_uri": "https://localhost:8080/"
        },
        "id": "T9btaWs3sst_",
        "outputId": "e8aa3836-a117-4049-e50a-edec780ce355"
      },
      "execution_count": 6,
      "outputs": [
        {
          "output_type": "stream",
          "name": "stdout",
          "text": [
            "2023-10-18 17:06:18.813958: I tensorflow/core/platform/cpu_feature_guard.cc:182] This TensorFlow binary is optimized to use available CPU instructions in performance-critical operations.\n",
            "To enable the following instructions: AVX2 FMA, in other operations, rebuild TensorFlow with the appropriate compiler flags.\n",
            "2023-10-18 17:06:20.068121: W tensorflow/compiler/tf2tensorrt/utils/py_utils.cc:38] TF-TRT Warning: Could not find TensorRT\n",
            "Epoch 1/10\n",
            "814/814 [==============================] - 2s 2ms/step - loss: 812.9521 - accuracy: 0.6700\n",
            "Epoch 2/10\n",
            "814/814 [==============================] - 2s 2ms/step - loss: 58.7383 - accuracy: 0.6822\n",
            "Epoch 3/10\n",
            "814/814 [==============================] - 3s 4ms/step - loss: 69.4941 - accuracy: 0.6866\n",
            "Epoch 4/10\n",
            "814/814 [==============================] - 1s 2ms/step - loss: 57.3983 - accuracy: 0.6866\n",
            "Epoch 5/10\n",
            "814/814 [==============================] - 1s 2ms/step - loss: 51.7599 - accuracy: 0.6987\n",
            "Epoch 6/10\n",
            "814/814 [==============================] - 1s 2ms/step - loss: 55.2046 - accuracy: 0.6959\n",
            "Epoch 7/10\n",
            "814/814 [==============================] - 1s 2ms/step - loss: 48.9117 - accuracy: 0.6944\n",
            "Epoch 8/10\n",
            "814/814 [==============================] - 1s 2ms/step - loss: 43.1873 - accuracy: 0.7034\n",
            "Epoch 9/10\n",
            "814/814 [==============================] - 1s 2ms/step - loss: 40.3766 - accuracy: 0.7085\n",
            "Epoch 10/10\n",
            "814/814 [==============================] - 1s 2ms/step - loss: 41.5336 - accuracy: 0.7117\n",
            "204/204 [==============================] - 0s 1ms/step\n",
            "Accuracy: 0.7580224167050514\n"
          ]
        }
      ]
    }
  ]
}